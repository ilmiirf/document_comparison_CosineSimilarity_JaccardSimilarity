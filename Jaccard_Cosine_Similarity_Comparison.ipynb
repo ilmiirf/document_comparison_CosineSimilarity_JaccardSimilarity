{
  "cells": [
    {
      "cell_type": "markdown",
      "metadata": {
        "id": "NND7qugDEbDn"
      },
      "source": [
        "## Load Document"
      ]
    },
    {
      "cell_type": "code",
      "execution_count": 7,
      "metadata": {
        "id": "YkrsMnluQTA0"
      },
      "outputs": [],
      "source": [
        "import os\n",
        "from docx import Document\n",
        "import pdfplumber\n",
        "\n",
        "\n",
        "def openFile(file_name):\n",
        "    if file_name.endswith('.txt'):\n",
        "        with open(file_name, 'r') as txt_file:\n",
        "            isi_file = txt_file.read()\n",
        "\n",
        "    elif file_name.endswith('.docx'):\n",
        "        doc = Document(file_name)\n",
        "        isi_file = ''\n",
        "        for paragraph in doc.paragraphs:\n",
        "            isi_file += (paragraph.text + \"\\n\")\n",
        "\n",
        "    elif file_name.endswith('.pdf'):\n",
        "        isi_file = ''\n",
        "        with pdfplumber.open(file_name) as pdf:\n",
        "            for page in pdf.pages:\n",
        "                text = page.extract_text()\n",
        "                isi_file += (text + \"\\n\")\n",
        "\n",
        "    else:\n",
        "        print(\"Format Dokumen Tidak Tersedia\")\n",
        "\n",
        "    return isi_file\n"
      ]
    },
    {
      "cell_type": "code",
      "execution_count": 9,
      "metadata": {
        "id": "WHZLC0X7GX3g"
      },
      "outputs": [],
      "source": [
        "dokumen_1 = openFile('Artikel 1.txt')\n",
        "dokumen_2 = openFile('Artikel 2.pdf')"
      ]
    },
    {
      "cell_type": "code",
      "execution_count": null,
      "metadata": {
        "id": "aYoS7gM6VoHa"
      },
      "outputs": [],
      "source": [
        "print(f\"dokumen 1 :\\n\\n {dokumen_1}\")"
      ]
    },
    {
      "cell_type": "code",
      "execution_count": null,
      "metadata": {
        "id": "QYO_236wWRWL"
      },
      "outputs": [],
      "source": [
        "print(f\"dokumen 2 :\\n\\n {dokumen_2}\")"
      ]
    },
    {
      "cell_type": "markdown",
      "metadata": {
        "id": "fhLITshQroJd"
      },
      "source": [
        "## Test Dummy"
      ]
    },
    {
      "cell_type": "code",
      "execution_count": 159,
      "metadata": {
        "id": "xZxb3crDbM4s"
      },
      "outputs": [],
      "source": [
        "'''test test'''\n",
        "\n",
        "# dokumen_1 = 'Manajemen waktu adalah keterampilan kunci yang harus dimiliki oleh setiap individu, baik dalam konteks pekerjaan maupun kehidupan pribadi. Kemampuan untuk mengatur dan memanfaatkan waktu dengan efisien adalah faktor penentu kesuksesan dalam mencapai tujuan. Dengan manajemen waktu yang baik, kita dapat meningkatkan produktivitas, mengurangi stres, dan meningkatkan kualitas hidup secara keseluruhan. Itulah mengapa penting untuk memberikan perhatian serius terhadap manajemen waktu dalam setiap aspek kehidupan kita.'\n",
        "# dokumen_2 = 'Manajemen waktu adalah keterampilan esensial dalam kehidupan sehari-hari. Dengan mengatur waktu dengan baik, Anda dapat meningkatkan produktivitas, menghindari stres berlebih, dan mencapai tujuan Anda lebih efisien. Terutama dalam dunia yang penuh dengan tuntutan, keterampilan ini memungkinkan Anda untuk menjaga keseimbangan antara pekerjaan, keluarga, dan waktu pribadi. Dengan manajemen waktu yang baik, Anda dapat merencanakan tugas-tugas dengan bijak, menghindari prokrastinasi, dan memiliki lebih banyak waktu untuk mengejar hobi serta bersantai. Akhirnya, manajemen waktu yang efektif adalah kunci untuk menciptakan kualitas hidup yang lebih baik secara keseluruhan.'\n"
      ]
    },
    {
      "cell_type": "markdown",
      "metadata": {
        "id": "V8XcRvwHA8MH"
      },
      "source": [
        "## Preprocessing"
      ]
    },
    {
      "cell_type": "code",
      "execution_count": 160,
      "metadata": {
        "colab": {
          "base_uri": "https://localhost:8080/"
        },
        "id": "M5VJnRb1Lo1C",
        "outputId": "e1c64982-9a8c-4a55-81cb-4dbf48c6529c"
      },
      "outputs": [
        {
          "name": "stdout",
          "output_type": "stream",
          "text": [
            "Requirement already satisfied: Sastrawi in /usr/local/lib/python3.10/dist-packages (1.0.1)\n"
          ]
        },
        {
          "name": "stderr",
          "output_type": "stream",
          "text": [
            "[nltk_data] Downloading package stopwords to /root/nltk_data...\n",
            "[nltk_data]   Package stopwords is already up-to-date!\n"
          ]
        }
      ],
      "source": [
        "import re\n",
        "from Sastrawi.Stemmer.StemmerFactory import StemmerFactory\n",
        "import nltk\n",
        "nltk.download(\"stopwords\")\n",
        "stopword = nltk.corpus.stopwords.words('indonesian')"
      ]
    },
    {
      "cell_type": "code",
      "execution_count": 161,
      "metadata": {
        "id": "PI_5Vz7P-UiS"
      },
      "outputs": [],
      "source": [
        "alphabet = \"([A-Za-z])\"\n",
        "akronim = \"([A-Z][.][A-Z][.](?:[A-Z][.])?)\"\n",
        "angka = \"([0-9])\"\n",
        "url = \"[.](com|net|org|io|gov|id|co|COM|CO|edu|me)\"\n",
        "gelar = \"(Mr|Mrs|Ms|Dr|dr|Prof|Capt|Cpt)\"\n",
        "gelar2 = \"(Pd|Sp)\"\n",
        "singkatan = \"(dkk|No)\"\n",
        "awalan = \"(vitamin|Gen|Generasi)\"\n",
        "\n",
        "\n",
        "def document_to_sentence_list(text):\n",
        "    text = text.replace(\"/n\", \"<pisah> \")\n",
        "    text = text.replace(\"\\n\", \"<pisah> \")\n",
        "\n",
        "    # inisialisasi tanda titik yang bukan merupakan akhir kalimat (<bak>)\n",
        "    if \"...\" in text:\n",
        "        text = text.replace(\"...\", \"<bak><bak><bak>\")\n",
        "    if \"Ph.D\" in text:\n",
        "        text = text.replace(\"Ph.D.\", \"Ph<bak>D\")\n",
        "\n",
        "    text = text.replace(\"..\", \".\")\n",
        "    # ganti tanda titik yang merupakan <bak> (bukan akhir kalimat)\n",
        "    text = re.sub(url, \"<bak>\\\\1\", text)\n",
        "    text = re.sub(awalan + \"\\s\" + alphabet + \"[.] \", \"\\\\1 \\\\2<pisah>\", text)\n",
        "    text = re.sub(angka + \"[.]\" + angka, \"\\\\1<bak>\\\\2\", text)\n",
        "    text = re.sub(\"\\s\" + angka + \"[.] \", \" \\\\1<bak> \", text)\n",
        "    text = re.sub(\"\\s\" + gelar + \"[.]\", \" \\\\1<bak>\", text)\n",
        "    text = re.sub(\"\\s\" + alphabet + \"[.]\" +\n",
        "                  gelar2 + \"[.]\", \" \\\\1<bak>\\\\2<bak>\", text)\n",
        "    text = re.sub(\"\\s\" + gelar2 + \"[.]\" +\n",
        "                  alphabet + \"[.]\", \" \\\\1<bak>\\\\2<bak>\", text)\n",
        "    text = re.sub(\"\\s\" + singkatan + \"[.]\", \" \\\\1<bak>\", text)\n",
        "    text = re.sub(alphabet + \"[.]\" + alphabet, \"\\\\1<bak>\\\\2\", text)\n",
        "    text = re.sub(alphabet + \"[.]\" + alphabet + \"[.]\" +\n",
        "                  alphabet + \"[.]\", \"\\\\1<bak>\\\\2<bak>\\\\3<bak>\", text)\n",
        "    text = re.sub(alphabet + \"[.]\" + alphabet +\n",
        "                  \"[.]\", \"\\\\1<bak>\\\\2<bak>\", text)\n",
        "    text = re.sub(\" \" + alphabet + \"[.]\", \" \\\\1<bak>\", text)\n",
        "    if '\"' in text:\n",
        "        text = text.replace('.\"', '\".')\n",
        "    text = re.sub(\"[?]\" + \" ([a-z])\", \"<bak2>\\\\1\", text)\n",
        "    text = re.sub(\"[!]\" + \" ([a-z])\", \"<bak3>\\\\1\", text)\n",
        "    text = re.sub(\"[?]\" + '\" ([a-z])', \"<bak2>\\\\1\", text)\n",
        "    text = re.sub(\"[!]\" + '\" ([a-z])', \"<bak3>\\\\1\", text)\n",
        "    if \"?\" in text:\n",
        "        text = text.replace('?\",', '<bak2>\",')\n",
        "\n",
        "    # tandai pemisah kalimat\n",
        "    text = text.replace(\".\", \".<pisah>\")\n",
        "    text = text.replace(\"?\", \"?<pisah>\")\n",
        "    text = text.replace(\"!\", \"!<pisah>\")\n",
        "\n",
        "    # ubah <ba>k menjadi tanda titik lagi\n",
        "    text = text.replace(\"<bak>\", \".\")\n",
        "    text = text.replace(\"<bak2>\", \"? \")\n",
        "    text = text.replace(\"<bak3>\", \"! \")\n",
        "\n",
        "    # pecah kalimat berdasarkan penanda <pisah>\n",
        "    kumpulan_kalimat = text.split(\"<pisah>\")\n",
        "\n",
        "    # masukkan kalimat dalam list_kalimat\n",
        "    kumpulan_kalimat = kumpulan_kalimat[:-1]\n",
        "    list_kalimat = [kalimat.strip() for kalimat in kumpulan_kalimat]\n",
        "\n",
        "    return list_kalimat\n"
      ]
    },
    {
      "cell_type": "code",
      "execution_count": 162,
      "metadata": {
        "id": "Jqp0n9Dr-eh2"
      },
      "outputs": [],
      "source": [
        "def cleaning(list_kalimat):\n",
        "    hasil = []\n",
        "    for kalimat in list_kalimat:\n",
        "        kalimat = re.sub(r'\\w*\\d+\\w*', '', kalimat)  # hapus nomer\n",
        "        kalimat = re.sub(r'[^\\w\\s]', ' ', kalimat)  # hapus tandabaca\n",
        "        kalimat = re.sub(r'<[^<]+?>', '', kalimat)  # hapus enter\n",
        "        kalimat = re.sub(r'\\s{2,}', ' ', kalimat)  # hapus spasi berlebih\n",
        "        kalimat = kalimat.replace('\\n', ' ')\n",
        "        kalimat = re.sub(r'\\s+', ' ', kalimat)\n",
        "        hasil.append(kalimat)\n",
        "    return hasil\n",
        "\n",
        "\n",
        "def case_folding(list_kalimat):\n",
        "    hasil = [kalimat.lower() for kalimat in list_kalimat]\n",
        "    return hasil\n",
        "\n",
        "\n",
        "def stemming(list_kalimat):\n",
        "    factory = StemmerFactory()\n",
        "    stemmer = factory.create_stemmer()\n",
        "    hasil = [stemmer.stem(kalimat) for kalimat in list_kalimat]\n",
        "    return hasil\n",
        "\n",
        "\n",
        "def tokenizing(list_kalimat):\n",
        "    hasil = []\n",
        "    for kalimat in list_kalimat:\n",
        "        kalimat = re.split(' ', kalimat)\n",
        "        hasil.append(kalimat)\n",
        "    return hasil\n",
        "\n",
        "\n",
        "def stopwords(list_kalimat):\n",
        "    hasil = []\n",
        "    for kalimat in list_kalimat:\n",
        "        text = [kata for kata in kalimat if kata not in stopword]\n",
        "        hasil.append(text)\n",
        "    return hasil\n",
        "\n",
        "\n",
        "def untokenize(dokumen):\n",
        "    text = ' '.join(dokumen)\n",
        "    step1 = text.replace(\"`` \", '\"').replace(\n",
        "        \" ''\", '\"').replace('. . .',  '...')\n",
        "    step2 = step1.replace(\" ( \", \" (\").replace(\" ) \", \") \")\n",
        "    step3 = re.sub(r' ([.,:;?!%]+)([ \\'\"`])', r\"\\1\\2\", step2)\n",
        "    step4 = re.sub(r' ([.,:;?!%]+)$', r\"\\1\", step3)\n",
        "    return step4\n"
      ]
    },
    {
      "cell_type": "code",
      "execution_count": 163,
      "metadata": {
        "id": "1DC0cx7-A8MM"
      },
      "outputs": [],
      "source": [
        "def preprocessing(document):\n",
        "    list_kalimat = document_to_sentence_list(document)\n",
        "    list_kalimat_cleaning = cleaning(list_kalimat)\n",
        "    list_kalimat_casfol = case_folding(list_kalimat_cleaning)\n",
        "    list_kalimat_stem = stemming(list_kalimat_casfol)\n",
        "    list_kalimat_per_kata = tokenizing(list_kalimat_stem)\n",
        "    list_kalimat_nostopword = stopwords(list_kalimat_per_kata)\n",
        "    list_kalimat_per_kata_prepro = [\n",
        "        x for x in list_kalimat_nostopword if x != [''] if x != []]\n",
        "\n",
        "    list_kalimat_prepro = [untokenize(n) for n in list_kalimat_per_kata_prepro]\n",
        "\n",
        "    index_kosong = []\n",
        "    for i in range(len(list_kalimat_nostopword)):\n",
        "        if list_kalimat_nostopword[i] == ['']:\n",
        "            index_kosong.append(i)\n",
        "        if list_kalimat_nostopword[i] == []:\n",
        "            index_kosong.append(i)\n",
        "\n",
        "    '''List Kalimat tanpa index kosong'''\n",
        "    list_kalimat_ = [list_kalimat[i]\n",
        "                     for i in range(len(list_kalimat)) if i not in index_kosong]\n",
        "\n",
        "    return list_kalimat_, list_kalimat_prepro, list_kalimat_per_kata_prepro\n"
      ]
    },
    {
      "cell_type": "markdown",
      "metadata": {
        "id": "ecpf-AYb_p0m"
      },
      "source": [
        "# Similarity Formulation"
      ]
    },
    {
      "cell_type": "code",
      "execution_count": 164,
      "metadata": {
        "id": "1ChHGBh3dJsM"
      },
      "outputs": [],
      "source": [
        "import math\n",
        "import numpy as np"
      ]
    },
    {
      "cell_type": "code",
      "execution_count": 165,
      "metadata": {
        "id": "kSrxgvq_S16y"
      },
      "outputs": [],
      "source": [
        "''' Mengumah kalimat atau text menjadi suatu list kata '''\n",
        "\n",
        "def text_to_word_list(kalimat):\n",
        "    list_kata = []\n",
        "    for kata in kalimat:\n",
        "        if kata not in list_kata:\n",
        "            list_kata.append(kata)\n",
        "\n",
        "    return list_kata\n"
      ]
    },
    {
      "cell_type": "markdown",
      "metadata": {
        "id": "vMZKnHMnPX7R"
      },
      "source": [
        "#### Jaccard Similarity"
      ]
    },
    {
      "cell_type": "markdown",
      "metadata": {
        "id": "P3Uvgd2TQ5Gr"
      },
      "source": [
        "![image.png](data:image/png;base64,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)"
      ]
    },
    {
      "cell_type": "code",
      "execution_count": 166,
      "metadata": {
        "id": "chYfiUQaPCSL"
      },
      "outputs": [],
      "source": [
        "def jaccard_similarity(text1, text2):\n",
        "    list_kata_text1 = text_to_word_list(text1)\n",
        "    list_kata_text2 = text_to_word_list(text2)\n",
        "    irisan = 0\n",
        "\n",
        "    '''\n",
        "    Menghitung kata yang sama (muncul pada kalimat1 dan muncul pada kalimat kalimat2)\n",
        "    Mengabaikan adanya kata yang muncul 2 kali dalam satu kalimat (jika ada 2 kata sama tetep dinilai 1)\n",
        "    |A ∩ B|\n",
        "    '''\n",
        "\n",
        "    for kata in list_kata_text1:\n",
        "        if kata in list_kata_text2:\n",
        "            irisan += 1\n",
        "\n",
        "    '''|A∪B|'''\n",
        "    gabungan = len(list_kata_text1) + len(list_kata_text2) - irisan\n",
        "\n",
        "    if irisan == 0:\n",
        "        similarity = 0\n",
        "    if irisan != 0:\n",
        "        similarity = irisan/gabungan\n",
        "\n",
        "    return similarity\n"
      ]
    },
    {
      "cell_type": "markdown",
      "metadata": {
        "id": "0NYP9SEyQeiF"
      },
      "source": [
        "#### Cosine Similarity"
      ]
    },
    {
      "cell_type": "markdown",
      "metadata": {
        "id": "HPBB6AgIQirK"
      },
      "source": [
        "![image.png](data:image/png;base64,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)"
      ]
    },
    {
      "cell_type": "code",
      "execution_count": 167,
      "metadata": {
        "id": "_d-o_qCcPCO1"
      },
      "outputs": [],
      "source": [
        "def cosine_similarity(matrix1, matrix2):\n",
        "    similarity = np.zeros([len(matrix1), len(matrix2)])\n",
        "    dot_product = 0\n",
        "    sum_A_square = 0\n",
        "    sum_B_square = 0\n",
        "\n",
        "    for A, B in zip(matrix1, matrix2):\n",
        "        AB = A*B\n",
        "        dot_product += AB\n",
        "\n",
        "        A_square = A**2\n",
        "        B_square = B**2\n",
        "\n",
        "        sum_A_square += A_square\n",
        "        sum_B_square += B_square\n",
        "\n",
        "    similarity = dot_product/math.sqrt(sum_A_square * sum_B_square)\n",
        "\n",
        "    return similarity\n"
      ]
    },
    {
      "cell_type": "markdown",
      "metadata": {
        "id": "dYhiILzydcln"
      },
      "source": [
        "##### BoW"
      ]
    },
    {
      "cell_type": "code",
      "execution_count": 168,
      "metadata": {
        "id": "1iwfp2HwPCMY"
      },
      "outputs": [],
      "source": [
        "def kalimat_list_kata(list_kalimat):\n",
        "    list_kata = []\n",
        "    for kalimat in list_kalimat:\n",
        "        for kata in kalimat:\n",
        "            if kata not in list_kata:\n",
        "                list_kata.append(kata)\n",
        "    return list_kata\n",
        "\n",
        "\n",
        "def term_frequency_kalimat(list_kalimat, list_kata):\n",
        "    list_tf = []\n",
        "    for kalimat in list_kalimat:\n",
        "        term_freq = {}\n",
        "        for kata in list_kata:\n",
        "            term_freq[kata] = 0\n",
        "        for kata in kalimat:\n",
        "            term_freq[kata] += 1\n",
        "        list_tf.append(term_freq)\n",
        "    return list_tf\n",
        "\n",
        "\n",
        "def dict_to_matrix(dictionary):\n",
        "    hasil = []\n",
        "    for t in dictionary:\n",
        "        values = list(t.values())\n",
        "        hasil.append(values)\n",
        "    return np.array(hasil)\n",
        "\n",
        "\n",
        "def sentence_to_BOW_matrix(list_kalimat):\n",
        "    list_kata = kalimat_list_kata(list_kalimat)\n",
        "    TFK = term_frequency_kalimat(list_kalimat, list_kata)\n",
        "    BOW_matrix = dict_to_matrix(TFK)\n",
        "    return BOW_matrix\n"
      ]
    },
    {
      "cell_type": "markdown",
      "metadata": {
        "id": "o6QphuWsemqX"
      },
      "source": [
        "##### TFIDF"
      ]
    },
    {
      "cell_type": "code",
      "execution_count": 169,
      "metadata": {
        "id": "5OWZUEVQtda-"
      },
      "outputs": [],
      "source": [
        "from sklearn.feature_extraction.text import TfidfVectorizer\n",
        "\n",
        "\n",
        "def matrix_TFIDF_library(list_kalimat):\n",
        "    vectorizer = TfidfVectorizer()\n",
        "    tfidf_matrix = vectorizer.fit_transform(list_kalimat)\n",
        "    return tfidf_matrix\n"
      ]
    },
    {
      "cell_type": "markdown",
      "metadata": {
        "id": "LH-ktSSoPE73"
      },
      "source": [
        "# Word-Level Comparison"
      ]
    },
    {
      "cell_type": "code",
      "execution_count": 170,
      "metadata": {
        "id": "YkCmN3-sjioF"
      },
      "outputs": [],
      "source": [
        "kalimat_1, kalimat_prepro1, kalimat_token_prepro1 = preprocessing(dokumen_1)\n",
        "kalimat_2, kalimat_prepro2, kalimat_token_prepro2 = preprocessing(dokumen_2)"
      ]
    },
    {
      "cell_type": "code",
      "execution_count": 171,
      "metadata": {
        "id": "lKcfHyrLox59"
      },
      "outputs": [],
      "source": [
        "def word_in_document(document):\n",
        "    list_kata = []\n",
        "    for kalimat in document:\n",
        "        list_kata = list_kata + kalimat\n",
        "\n",
        "    return list_kata\n"
      ]
    },
    {
      "cell_type": "code",
      "execution_count": 172,
      "metadata": {
        "id": "J9Wa78fDpMXZ"
      },
      "outputs": [],
      "source": [
        "text__1 = word_in_document(kalimat_token_prepro1)\n",
        "text__2 = word_in_document(kalimat_token_prepro2)"
      ]
    },
    {
      "cell_type": "code",
      "execution_count": 173,
      "metadata": {
        "colab": {
          "base_uri": "https://localhost:8080/"
        },
        "id": "-x485ln4xBem",
        "outputId": "d5757a60-9fa7-425c-891d-8d22bff8d32c"
      },
      "outputs": [
        {
          "data": {
            "text/plain": [
              "0.35714285714285715"
            ]
          },
          "execution_count": 173,
          "metadata": {},
          "output_type": "execute_result"
        }
      ],
      "source": [
        "jaccard_similarity_kata = jaccard_similarity(text__1,text__2)\n",
        "jaccard_similarity_kata"
      ]
    },
    {
      "cell_type": "code",
      "execution_count": 174,
      "metadata": {
        "colab": {
          "base_uri": "https://localhost:8080/"
        },
        "id": "vNPP-iyPySie",
        "outputId": "8d324159-80f9-47c9-ae28-997ed2ab2e14"
      },
      "outputs": [
        {
          "data": {
            "text/plain": [
              "0.6284186886676618"
            ]
          },
          "execution_count": 174,
          "metadata": {},
          "output_type": "execute_result"
        }
      ],
      "source": [
        "BOW_matrix = sentence_to_BOW_matrix([text__1, text__2])\n",
        "\n",
        "BOW_cosine_similarity = cosine_similarity(BOW_matrix[0],BOW_matrix[1])\n",
        "BOW_cosine_similarity"
      ]
    },
    {
      "cell_type": "code",
      "execution_count": 175,
      "metadata": {
        "colab": {
          "base_uri": "https://localhost:8080/"
        },
        "id": "XRkn6c57zPUs",
        "outputId": "39ca05aa-c700-4b0b-e51b-63e54269d07b"
      },
      "outputs": [
        {
          "data": {
            "text/plain": [
              "0.47695710906686384"
            ]
          },
          "execution_count": 175,
          "metadata": {},
          "output_type": "execute_result"
        }
      ],
      "source": [
        "TFIDFLib_matrix = matrix_TFIDF_library([untokenize(kalimat_prepro1)] + [untokenize(kalimat_prepro2)])\n",
        "TFIDFLib_matrix  = TFIDFLib_matrix.toarray()\n",
        "\n",
        "TFIDFLib_cosine_similarity = cosine_similarity(TFIDFLib_matrix[0], TFIDFLib_matrix[1])\n",
        "TFIDFLib_cosine_similarity"
      ]
    },
    {
      "cell_type": "markdown",
      "metadata": {
        "id": "PASiabLHPGtM"
      },
      "source": [
        "# Sentence-Level Comparison"
      ]
    },
    {
      "cell_type": "code",
      "execution_count": 176,
      "metadata": {
        "id": "qZNtJbl5XXpt"
      },
      "outputs": [],
      "source": [
        "kalimat_1, kalimat_prepro1, kalimat_token_prepro1 = preprocessing(dokumen_1)\n",
        "kalimat_2, kalimat_prepro2, kalimat_token_prepro2 = preprocessing(dokumen_2)"
      ]
    },
    {
      "cell_type": "code",
      "execution_count": 178,
      "metadata": {
        "id": "j8Df5tEwA8Js"
      },
      "outputs": [],
      "source": [
        "def matrix_jaccard_similarity(list_text1, list_text2):\n",
        "  similarity = np.zeros([len(list_text1), len(list_text2)])\n",
        "  for i in range(len(list_text1)):\n",
        "    for j in range(len(list_text2)):\n",
        "      kalimat1 = list_text1[i]\n",
        "      kalimat2 = list_text2[j]\n",
        "\n",
        "      similarity[i][j] = jaccard_similarity(kalimat1,kalimat2)\n",
        "  return similarity"
      ]
    },
    {
      "cell_type": "code",
      "execution_count": 179,
      "metadata": {
        "colab": {
          "base_uri": "https://localhost:8080/"
        },
        "id": "gLspzPCKBKph",
        "outputId": "78632db3-4716-4997-9727-7e1f9d40d2e7"
      },
      "outputs": [
        {
          "data": {
            "text/plain": [
              "array([[0.3       , 0.        , 0.1875    , 0.11764706, 0.25      ],\n",
              "       [0.        , 0.36363636, 0.        , 0.        , 0.        ],\n",
              "       [0.25      , 0.27272727, 0.        , 0.06666667, 0.33333333],\n",
              "       [0.25      , 0.        , 0.        , 0.06666667, 0.2       ]])"
            ]
          },
          "execution_count": 179,
          "metadata": {},
          "output_type": "execute_result"
        }
      ],
      "source": [
        "matrix_jaccard_similarity = matrix_jaccard_similarity(kalimat_token_prepro1, kalimat_token_prepro2)\n",
        "matrix_jaccard_similarity"
      ]
    },
    {
      "cell_type": "code",
      "execution_count": 180,
      "metadata": {
        "id": "2xSlENj5BS20"
      },
      "outputs": [],
      "source": [
        "def matrix_cosine_similarity(matrix1, matrix2):\n",
        "  similarity = np.zeros([len(matrix1), len(matrix2)])\n",
        "  for i in range(len(matrix1)):\n",
        "    for j in range(len(matrix2)):\n",
        "      similarity[i][j] = cosine_similarity(matrix1[i], matrix2[j])\n",
        "\n",
        "  return similarity"
      ]
    },
    {
      "cell_type": "code",
      "execution_count": 181,
      "metadata": {
        "colab": {
          "base_uri": "https://localhost:8080/"
        },
        "id": "RmHyzPx3Bbl7",
        "outputId": "6b444a65-500a-4cf7-d466-fec88ec633c0"
      },
      "outputs": [
        {
          "data": {
            "text/plain": [
              "array([[0.5       , 0.        , 0.31622777, 0.18490007, 0.40824829],\n",
              "       [0.        , 0.53452248, 0.        , 0.        , 0.        ],\n",
              "       [0.33333333, 0.47140452, 0.        , 0.09245003, 0.40824829],\n",
              "       [0.40824829, 0.        , 0.        , 0.1132277 , 0.33333333]])"
            ]
          },
          "execution_count": 181,
          "metadata": {},
          "output_type": "execute_result"
        }
      ],
      "source": [
        "BOW_matrix_join = sentence_to_BOW_matrix(kalimat_token_prepro1 + kalimat_token_prepro2)\n",
        "\n",
        "BOW_matrix1 = BOW_matrix_join[:len(kalimat_token_prepro1)]\n",
        "BOW_matrix2 = BOW_matrix_join[len(kalimat_token_prepro1):]\n",
        "\n",
        "matrix_BoW_cosine_sim = matrix_cosine_similarity(BOW_matrix1, BOW_matrix2)\n",
        "matrix_BoW_cosine_sim"
      ]
    },
    {
      "cell_type": "code",
      "execution_count": 182,
      "metadata": {
        "colab": {
          "base_uri": "https://localhost:8080/"
        },
        "id": "FrsKCf_TG2Pt",
        "outputId": "b7b9df51-6adf-4701-8de8-71444eb6a276"
      },
      "outputs": [
        {
          "data": {
            "text/plain": [
              "array([[0.3191751 , 0.        , 0.26808883, 0.11743611, 0.26817814],\n",
              "       [0.        , 0.4937036 , 0.        , 0.        , 0.        ],\n",
              "       [0.17473441, 0.50479227, 0.        , 0.03340087, 0.27757293],\n",
              "       [0.19266382, 0.        , 0.        , 0.03682811, 0.14051445]])"
            ]
          },
          "execution_count": 182,
          "metadata": {},
          "output_type": "execute_result"
        }
      ],
      "source": [
        "TFIDF_matrix_join = matrix_TFIDF_library(kalimat_prepro1 + kalimat_prepro2)\n",
        "TFIDF_matrix_join = TFIDF_matrix_join.toarray()\n",
        "TFIDF_matrix1 = TFIDF_matrix_join[:len(kalimat_token_prepro1)]\n",
        "TFIDF_matrix2 = TFIDF_matrix_join[len(kalimat_token_prepro1):]\n",
        "\n",
        "matrix_tfidf_cosine_sim = matrix_cosine_similarity(TFIDF_matrix1, TFIDF_matrix2)\n",
        "matrix_tfidf_cosine_sim"
      ]
    },
    {
      "cell_type": "markdown",
      "metadata": {
        "id": "Nz10T0HZMLZP"
      },
      "source": [
        "# Hasil"
      ]
    },
    {
      "cell_type": "code",
      "execution_count": 183,
      "metadata": {
        "id": "c9xUt0QLokI7"
      },
      "outputs": [],
      "source": [
        "import pandas as pd\n",
        "pd.set_option('display.max_colwidth', True)"
      ]
    },
    {
      "cell_type": "code",
      "execution_count": 189,
      "metadata": {
        "colab": {
          "base_uri": "https://localhost:8080/"
        },
        "id": "KPRcTzyIMNt2",
        "outputId": "7ca79c93-bc8f-4e1c-f042-d9391923990b"
      },
      "outputs": [
        {
          "name": "stdout",
          "output_type": "stream",
          "text": [
            "Hasil pada Word Level Comparison (antar kata dalam dokumen)\n",
            "\n",
            "Hasil komparasi dengan jaccard similarity       : 0.35714285714285715\n",
            "Hasil komparasi dengan BOW cosine similarity    : 0.6284186886676618\n",
            "Hasil komparasi dengan TFIDF cosine similarity  : 0.47695710906686384\n"
          ]
        }
      ],
      "source": [
        "''' Word Level Comparison (antar kata dalam dokumen) '''\n",
        "print(\"Hasil pada Word Level Comparison (antar kata dalam dokumen)\\n\")\n",
        "print(f\"Hasil komparasi dengan jaccard similarity       : {jaccard_similarity_kata}\")\n",
        "print(f\"Hasil komparasi dengan BOW cosine similarity    : {BOW_cosine_similarity}\")\n",
        "print(f\"Hasil komparasi dengan TFIDF cosine similarity  : {TFIDFLib_cosine_similarity}\")"
      ]
    },
    {
      "cell_type": "code",
      "execution_count": 190,
      "metadata": {
        "colab": {
          "base_uri": "https://localhost:8080/"
        },
        "id": "KPiGpJCrNj8C",
        "outputId": "801eaae2-e730-4420-e9c3-ff6068b3ba18"
      },
      "outputs": [
        {
          "name": "stdout",
          "output_type": "stream",
          "text": [
            "Hasil pada Sentence Level Comparison (antar kata dalam dokumen)\n",
            "\n",
            "Hasil komparasi dengan jaccard similarity      :\n",
            "[[0.3        0.         0.1875     0.11764706 0.25      ]\n",
            " [0.         0.36363636 0.         0.         0.        ]\n",
            " [0.25       0.27272727 0.         0.06666667 0.33333333]\n",
            " [0.25       0.         0.         0.06666667 0.2       ]]\n",
            "\n",
            "Hasil komparasi dengan BOW cosine similarity   :\n",
            "[[0.5        0.         0.31622777 0.18490007 0.40824829]\n",
            " [0.         0.53452248 0.         0.         0.        ]\n",
            " [0.33333333 0.47140452 0.         0.09245003 0.40824829]\n",
            " [0.40824829 0.         0.         0.1132277  0.33333333]]\n",
            "\n",
            "Hasil komparsi dengan TFIDF cosine similarity :\n",
            "[[0.3191751  0.         0.26808883 0.11743611 0.26817814]\n",
            " [0.         0.4937036  0.         0.         0.        ]\n",
            " [0.17473441 0.50479227 0.         0.03340087 0.27757293]\n",
            " [0.19266382 0.         0.         0.03682811 0.14051445]]\n",
            "\n"
          ]
        }
      ],
      "source": [
        "''' Sentence Level Comparison (antar kata dalam dokumen) '''\n",
        "print(\"Hasil pada Sentence Level Comparison (antar kata dalam dokumen)\\n\")\n",
        "print(f\"Hasil komparasi dengan jaccard similarity      :\\n{matrix_jaccard_similarity}\\n\")\n",
        "print(f\"Hasil komparasi dengan BOW cosine similarity   :\\n{matrix_BoW_cosine_sim}\\n\")\n",
        "print(f\"Hasil komparasi dengan TFIDF cosine similarity :\\n{matrix_tfidf_cosine_sim}\\n\")"
      ]
    },
    {
      "cell_type": "code",
      "execution_count": 186,
      "metadata": {
        "colab": {
          "base_uri": "https://localhost:8080/",
          "height": 247
        },
        "id": "EE6Y2pwyodbc",
        "outputId": "6bc5f7d3-d8a2-408a-a25d-e6afbf8d0bb2"
      },
      "outputs": [
        {
          "data": {
            "text/html": [
              "\n",
              "  <div id=\"df-0494699b-4bb3-4f60-9d98-66298920583a\" class=\"colab-df-container\">\n",
              "    <div>\n",
              "<style scoped>\n",
              "    .dataframe tbody tr th:only-of-type {\n",
              "        vertical-align: middle;\n",
              "    }\n",
              "\n",
              "    .dataframe tbody tr th {\n",
              "        vertical-align: top;\n",
              "    }\n",
              "\n",
              "    .dataframe thead th {\n",
              "        text-align: right;\n",
              "    }\n",
              "</style>\n",
              "<table border=\"1\" class=\"dataframe\">\n",
              "  <thead>\n",
              "    <tr style=\"text-align: right;\">\n",
              "      <th></th>\n",
              "      <th>kalimat pada doc 1</th>\n",
              "      <th>kalimat pada doc 2</th>\n",
              "      <th>kemiripan</th>\n",
              "    </tr>\n",
              "  </thead>\n",
              "  <tbody>\n",
              "    <tr>\n",
              "      <th>0</th>\n",
              "      <td>Manajemen waktu adalah keterampilan kunci yang harus dimiliki oleh setiap individu, baik dalam konteks pekerjaan maupun kehidupan pribadi.</td>\n",
              "      <td>Manajemen waktu adalah keterampilan esensial dalam kehidupan sehari-hari.</td>\n",
              "      <td>0.319175</td>\n",
              "    </tr>\n",
              "    <tr>\n",
              "      <th>1</th>\n",
              "      <td>Kemampuan untuk mengatur dan memanfaatkan waktu dengan efisien adalah faktor penentu kesuksesan dalam mencapai tujuan.</td>\n",
              "      <td>Dengan mengatur waktu dengan baik, Anda dapat meningkatkan produktivitas, menghindari stres berlebih, dan mencapai tujuan Anda lebih efisien.</td>\n",
              "      <td>0.493704</td>\n",
              "    </tr>\n",
              "    <tr>\n",
              "      <th>2</th>\n",
              "      <td>Dengan manajemen waktu yang baik, kita dapat meningkatkan produktivitas, mengurangi stres, dan meningkatkan kualitas hidup secara keseluruhan.</td>\n",
              "      <td>Dengan mengatur waktu dengan baik, Anda dapat meningkatkan produktivitas, menghindari stres berlebih, dan mencapai tujuan Anda lebih efisien.</td>\n",
              "      <td>0.504792</td>\n",
              "    </tr>\n",
              "  </tbody>\n",
              "</table>\n",
              "</div>\n",
              "    <div class=\"colab-df-buttons\">\n",
              "\n",
              "  <div class=\"colab-df-container\">\n",
              "    <button class=\"colab-df-convert\" onclick=\"convertToInteractive('df-0494699b-4bb3-4f60-9d98-66298920583a')\"\n",
              "            title=\"Convert this dataframe to an interactive table.\"\n",
              "            style=\"display:none;\">\n",
              "\n",
              "  <svg xmlns=\"http://www.w3.org/2000/svg\" height=\"24px\" viewBox=\"0 -960 960 960\">\n",
              "    <path d=\"M120-120v-720h720v720H120Zm60-500h600v-160H180v160Zm220 220h160v-160H400v160Zm0 220h160v-160H400v160ZM180-400h160v-160H180v160Zm440 0h160v-160H620v160ZM180-180h160v-160H180v160Zm440 0h160v-160H620v160Z\"/>\n",
              "  </svg>\n",
              "    </button>\n",
              "\n",
              "  <style>\n",
              "    .colab-df-container {\n",
              "      display:flex;\n",
              "      gap: 12px;\n",
              "    }\n",
              "\n",
              "    .colab-df-convert {\n",
              "      background-color: #E8F0FE;\n",
              "      border: none;\n",
              "      border-radius: 50%;\n",
              "      cursor: pointer;\n",
              "      display: none;\n",
              "      fill: #1967D2;\n",
              "      height: 32px;\n",
              "      padding: 0 0 0 0;\n",
              "      width: 32px;\n",
              "    }\n",
              "\n",
              "    .colab-df-convert:hover {\n",
              "      background-color: #E2EBFA;\n",
              "      box-shadow: 0px 1px 2px rgba(60, 64, 67, 0.3), 0px 1px 3px 1px rgba(60, 64, 67, 0.15);\n",
              "      fill: #174EA6;\n",
              "    }\n",
              "\n",
              "    .colab-df-buttons div {\n",
              "      margin-bottom: 4px;\n",
              "    }\n",
              "\n",
              "    [theme=dark] .colab-df-convert {\n",
              "      background-color: #3B4455;\n",
              "      fill: #D2E3FC;\n",
              "    }\n",
              "\n",
              "    [theme=dark] .colab-df-convert:hover {\n",
              "      background-color: #434B5C;\n",
              "      box-shadow: 0px 1px 3px 1px rgba(0, 0, 0, 0.15);\n",
              "      filter: drop-shadow(0px 1px 2px rgba(0, 0, 0, 0.3));\n",
              "      fill: #FFFFFF;\n",
              "    }\n",
              "  </style>\n",
              "\n",
              "    <script>\n",
              "      const buttonEl =\n",
              "        document.querySelector('#df-0494699b-4bb3-4f60-9d98-66298920583a button.colab-df-convert');\n",
              "      buttonEl.style.display =\n",
              "        google.colab.kernel.accessAllowed ? 'block' : 'none';\n",
              "\n",
              "      async function convertToInteractive(key) {\n",
              "        const element = document.querySelector('#df-0494699b-4bb3-4f60-9d98-66298920583a');\n",
              "        const dataTable =\n",
              "          await google.colab.kernel.invokeFunction('convertToInteractive',\n",
              "                                                    [key], {});\n",
              "        if (!dataTable) return;\n",
              "\n",
              "        const docLinkHtml = 'Like what you see? Visit the ' +\n",
              "          '<a target=\"_blank\" href=https://colab.research.google.com/notebooks/data_table.ipynb>data table notebook</a>'\n",
              "          + ' to learn more about interactive tables.';\n",
              "        element.innerHTML = '';\n",
              "        dataTable['output_type'] = 'display_data';\n",
              "        await google.colab.output.renderOutput(dataTable, element);\n",
              "        const docLink = document.createElement('div');\n",
              "        docLink.innerHTML = docLinkHtml;\n",
              "        element.appendChild(docLink);\n",
              "      }\n",
              "    </script>\n",
              "  </div>\n",
              "\n",
              "\n",
              "<div id=\"df-91ac579c-cb31-4ae2-b012-77d931b35b34\">\n",
              "  <button class=\"colab-df-quickchart\" onclick=\"quickchart('df-91ac579c-cb31-4ae2-b012-77d931b35b34')\"\n",
              "            title=\"Suggest charts.\"\n",
              "            style=\"display:none;\">\n",
              "\n",
              "<svg xmlns=\"http://www.w3.org/2000/svg\" height=\"24px\"viewBox=\"0 0 24 24\"\n",
              "     width=\"24px\">\n",
              "    <g>\n",
              "        <path d=\"M19 3H5c-1.1 0-2 .9-2 2v14c0 1.1.9 2 2 2h14c1.1 0 2-.9 2-2V5c0-1.1-.9-2-2-2zM9 17H7v-7h2v7zm4 0h-2V7h2v10zm4 0h-2v-4h2v4z\"/>\n",
              "    </g>\n",
              "</svg>\n",
              "  </button>\n",
              "\n",
              "<style>\n",
              "  .colab-df-quickchart {\n",
              "      --bg-color: #E8F0FE;\n",
              "      --fill-color: #1967D2;\n",
              "      --hover-bg-color: #E2EBFA;\n",
              "      --hover-fill-color: #174EA6;\n",
              "      --disabled-fill-color: #AAA;\n",
              "      --disabled-bg-color: #DDD;\n",
              "  }\n",
              "\n",
              "  [theme=dark] .colab-df-quickchart {\n",
              "      --bg-color: #3B4455;\n",
              "      --fill-color: #D2E3FC;\n",
              "      --hover-bg-color: #434B5C;\n",
              "      --hover-fill-color: #FFFFFF;\n",
              "      --disabled-bg-color: #3B4455;\n",
              "      --disabled-fill-color: #666;\n",
              "  }\n",
              "\n",
              "  .colab-df-quickchart {\n",
              "    background-color: var(--bg-color);\n",
              "    border: none;\n",
              "    border-radius: 50%;\n",
              "    cursor: pointer;\n",
              "    display: none;\n",
              "    fill: var(--fill-color);\n",
              "    height: 32px;\n",
              "    padding: 0;\n",
              "    width: 32px;\n",
              "  }\n",
              "\n",
              "  .colab-df-quickchart:hover {\n",
              "    background-color: var(--hover-bg-color);\n",
              "    box-shadow: 0 1px 2px rgba(60, 64, 67, 0.3), 0 1px 3px 1px rgba(60, 64, 67, 0.15);\n",
              "    fill: var(--button-hover-fill-color);\n",
              "  }\n",
              "\n",
              "  .colab-df-quickchart-complete:disabled,\n",
              "  .colab-df-quickchart-complete:disabled:hover {\n",
              "    background-color: var(--disabled-bg-color);\n",
              "    fill: var(--disabled-fill-color);\n",
              "    box-shadow: none;\n",
              "  }\n",
              "\n",
              "  .colab-df-spinner {\n",
              "    border: 2px solid var(--fill-color);\n",
              "    border-color: transparent;\n",
              "    border-bottom-color: var(--fill-color);\n",
              "    animation:\n",
              "      spin 1s steps(1) infinite;\n",
              "  }\n",
              "\n",
              "  @keyframes spin {\n",
              "    0% {\n",
              "      border-color: transparent;\n",
              "      border-bottom-color: var(--fill-color);\n",
              "      border-left-color: var(--fill-color);\n",
              "    }\n",
              "    20% {\n",
              "      border-color: transparent;\n",
              "      border-left-color: var(--fill-color);\n",
              "      border-top-color: var(--fill-color);\n",
              "    }\n",
              "    30% {\n",
              "      border-color: transparent;\n",
              "      border-left-color: var(--fill-color);\n",
              "      border-top-color: var(--fill-color);\n",
              "      border-right-color: var(--fill-color);\n",
              "    }\n",
              "    40% {\n",
              "      border-color: transparent;\n",
              "      border-right-color: var(--fill-color);\n",
              "      border-top-color: var(--fill-color);\n",
              "    }\n",
              "    60% {\n",
              "      border-color: transparent;\n",
              "      border-right-color: var(--fill-color);\n",
              "    }\n",
              "    80% {\n",
              "      border-color: transparent;\n",
              "      border-right-color: var(--fill-color);\n",
              "      border-bottom-color: var(--fill-color);\n",
              "    }\n",
              "    90% {\n",
              "      border-color: transparent;\n",
              "      border-bottom-color: var(--fill-color);\n",
              "    }\n",
              "  }\n",
              "</style>\n",
              "\n",
              "  <script>\n",
              "    async function quickchart(key) {\n",
              "      const quickchartButtonEl =\n",
              "        document.querySelector('#' + key + ' button');\n",
              "      quickchartButtonEl.disabled = true;  // To prevent multiple clicks.\n",
              "      quickchartButtonEl.classList.add('colab-df-spinner');\n",
              "      try {\n",
              "        const charts = await google.colab.kernel.invokeFunction(\n",
              "            'suggestCharts', [key], {});\n",
              "      } catch (error) {\n",
              "        console.error('Error during call to suggestCharts:', error);\n",
              "      }\n",
              "      quickchartButtonEl.classList.remove('colab-df-spinner');\n",
              "      quickchartButtonEl.classList.add('colab-df-quickchart-complete');\n",
              "    }\n",
              "    (() => {\n",
              "      let quickchartButtonEl =\n",
              "        document.querySelector('#df-91ac579c-cb31-4ae2-b012-77d931b35b34 button');\n",
              "      quickchartButtonEl.style.display =\n",
              "        google.colab.kernel.accessAllowed ? 'block' : 'none';\n",
              "    })();\n",
              "  </script>\n",
              "</div>\n",
              "    </div>\n",
              "  </div>\n"
            ],
            "text/plain": [
              "                                                                                                                               kalimat pada doc 1  \\\n",
              "0  Manajemen waktu adalah keterampilan kunci yang harus dimiliki oleh setiap individu, baik dalam konteks pekerjaan maupun kehidupan pribadi.       \n",
              "1  Kemampuan untuk mengatur dan memanfaatkan waktu dengan efisien adalah faktor penentu kesuksesan dalam mencapai tujuan.                           \n",
              "2  Dengan manajemen waktu yang baik, kita dapat meningkatkan produktivitas, mengurangi stres, dan meningkatkan kualitas hidup secara keseluruhan.   \n",
              "\n",
              "                                                                                                                              kalimat pada doc 2  \\\n",
              "0  Manajemen waktu adalah keterampilan esensial dalam kehidupan sehari-hari.                                                                       \n",
              "1  Dengan mengatur waktu dengan baik, Anda dapat meningkatkan produktivitas, menghindari stres berlebih, dan mencapai tujuan Anda lebih efisien.   \n",
              "2  Dengan mengatur waktu dengan baik, Anda dapat meningkatkan produktivitas, menghindari stres berlebih, dan mencapai tujuan Anda lebih efisien.   \n",
              "\n",
              "   kemiripan  \n",
              "0  0.319175   \n",
              "1  0.493704   \n",
              "2  0.504792   "
            ]
          },
          "metadata": {},
          "output_type": "display_data"
        }
      ],
      "source": [
        "''' Kalimat yang Paling mirip antara dokumen 1 dan dokumen 2 (TFIDF Cosine)'''\n",
        "\n",
        "minimal_kemiripan = 0.3\n",
        "\n",
        "data_conclussion = {'kalimat pada doc 1': [],\n",
        "                    'kalimat pada doc 2': [],\n",
        "                    'kemiripan': []}\n",
        "\n",
        "df_conclussion = pd.DataFrame(data_conclussion)\n",
        "\n",
        "for index1, item1 in enumerate(matrix_tfidf_cosine_sim):\n",
        "    for index2, item2 in enumerate(item1):\n",
        "        if matrix_tfidf_cosine_sim[index1][index2] > minimal_kemiripan:\n",
        "            new_row = {'kalimat pada doc 1': kalimat_1[index1],\n",
        "                       'kalimat pada doc 2': kalimat_2[index2],\n",
        "                       'kemiripan': matrix_tfidf_cosine_sim[index1][index2]}\n",
        "            new_df = pd.DataFrame([new_row])\n",
        "            df_conclussion = pd.concat(\n",
        "                [df_conclussion, new_df], ignore_index=True)\n",
        "\n",
        "display(df_conclussion)\n"
      ]
    },
    {
      "cell_type": "code",
      "execution_count": 187,
      "metadata": {
        "colab": {
          "base_uri": "https://localhost:8080/",
          "height": 834
        },
        "id": "U-wpzLvPcRF0",
        "outputId": "b14026d7-98d7-4561-edce-6351e075bb85"
      },
      "outputs": [
        {
          "data": {
            "text/html": [
              "\n",
              "  <div id=\"df-4b43cee6-a20e-4ed7-8faf-d6bb452de05d\" class=\"colab-df-container\">\n",
              "    <div>\n",
              "<style scoped>\n",
              "    .dataframe tbody tr th:only-of-type {\n",
              "        vertical-align: middle;\n",
              "    }\n",
              "\n",
              "    .dataframe tbody tr th {\n",
              "        vertical-align: top;\n",
              "    }\n",
              "\n",
              "    .dataframe thead th {\n",
              "        text-align: right;\n",
              "    }\n",
              "</style>\n",
              "<table border=\"1\" class=\"dataframe\">\n",
              "  <thead>\n",
              "    <tr style=\"text-align: right;\">\n",
              "      <th></th>\n",
              "      <th>Manajemen waktu adalah keterampilan esensial dalam kehidupan sehari-hari.</th>\n",
              "      <th>Dengan mengatur waktu dengan baik, Anda dapat meningkatkan produktivitas, menghindari stres berlebih, dan mencapai tujuan Anda lebih efisien.</th>\n",
              "      <th>Terutama dalam dunia yang penuh dengan tuntutan, keterampilan ini memungkinkan Anda untuk menjaga keseimbangan antara pekerjaan, keluarga, dan waktu pribadi.</th>\n",
              "      <th>Dengan manajemen waktu yang baik, Anda dapat merencanakan tugas-tugas dengan bijak, menghindari prokrastinasi, dan memiliki lebih banyak waktu untuk mengejar hobi serta bersantai.</th>\n",
              "      <th>Akhirnya, manajemen waktu yang efektif adalah kunci untuk menciptakan kualitas hidup yang lebih baik secara keseluruhan.</th>\n",
              "    </tr>\n",
              "  </thead>\n",
              "  <tbody>\n",
              "    <tr>\n",
              "      <th>Manajemen waktu adalah keterampilan kunci yang harus dimiliki oleh setiap individu, baik dalam konteks pekerjaan maupun kehidupan pribadi.</th>\n",
              "      <td>0.319175</td>\n",
              "      <td>0.000000</td>\n",
              "      <td>0.268089</td>\n",
              "      <td>0.117436</td>\n",
              "      <td>0.268178</td>\n",
              "    </tr>\n",
              "    <tr>\n",
              "      <th>Kemampuan untuk mengatur dan memanfaatkan waktu dengan efisien adalah faktor penentu kesuksesan dalam mencapai tujuan.</th>\n",
              "      <td>0.000000</td>\n",
              "      <td>0.493704</td>\n",
              "      <td>0.000000</td>\n",
              "      <td>0.000000</td>\n",
              "      <td>0.000000</td>\n",
              "    </tr>\n",
              "    <tr>\n",
              "      <th>Dengan manajemen waktu yang baik, kita dapat meningkatkan produktivitas, mengurangi stres, dan meningkatkan kualitas hidup secara keseluruhan.</th>\n",
              "      <td>0.174734</td>\n",
              "      <td>0.504792</td>\n",
              "      <td>0.000000</td>\n",
              "      <td>0.033401</td>\n",
              "      <td>0.277573</td>\n",
              "    </tr>\n",
              "    <tr>\n",
              "      <th>Itulah mengapa penting untuk memberikan perhatian serius terhadap manajemen waktu dalam setiap aspek kehidupan kita.</th>\n",
              "      <td>0.192664</td>\n",
              "      <td>0.000000</td>\n",
              "      <td>0.000000</td>\n",
              "      <td>0.036828</td>\n",
              "      <td>0.140514</td>\n",
              "    </tr>\n",
              "  </tbody>\n",
              "</table>\n",
              "</div>\n",
              "    <div class=\"colab-df-buttons\">\n",
              "\n",
              "  <div class=\"colab-df-container\">\n",
              "    <button class=\"colab-df-convert\" onclick=\"convertToInteractive('df-4b43cee6-a20e-4ed7-8faf-d6bb452de05d')\"\n",
              "            title=\"Convert this dataframe to an interactive table.\"\n",
              "            style=\"display:none;\">\n",
              "\n",
              "  <svg xmlns=\"http://www.w3.org/2000/svg\" height=\"24px\" viewBox=\"0 -960 960 960\">\n",
              "    <path d=\"M120-120v-720h720v720H120Zm60-500h600v-160H180v160Zm220 220h160v-160H400v160Zm0 220h160v-160H400v160ZM180-400h160v-160H180v160Zm440 0h160v-160H620v160ZM180-180h160v-160H180v160Zm440 0h160v-160H620v160Z\"/>\n",
              "  </svg>\n",
              "    </button>\n",
              "\n",
              "  <style>\n",
              "    .colab-df-container {\n",
              "      display:flex;\n",
              "      gap: 12px;\n",
              "    }\n",
              "\n",
              "    .colab-df-convert {\n",
              "      background-color: #E8F0FE;\n",
              "      border: none;\n",
              "      border-radius: 50%;\n",
              "      cursor: pointer;\n",
              "      display: none;\n",
              "      fill: #1967D2;\n",
              "      height: 32px;\n",
              "      padding: 0 0 0 0;\n",
              "      width: 32px;\n",
              "    }\n",
              "\n",
              "    .colab-df-convert:hover {\n",
              "      background-color: #E2EBFA;\n",
              "      box-shadow: 0px 1px 2px rgba(60, 64, 67, 0.3), 0px 1px 3px 1px rgba(60, 64, 67, 0.15);\n",
              "      fill: #174EA6;\n",
              "    }\n",
              "\n",
              "    .colab-df-buttons div {\n",
              "      margin-bottom: 4px;\n",
              "    }\n",
              "\n",
              "    [theme=dark] .colab-df-convert {\n",
              "      background-color: #3B4455;\n",
              "      fill: #D2E3FC;\n",
              "    }\n",
              "\n",
              "    [theme=dark] .colab-df-convert:hover {\n",
              "      background-color: #434B5C;\n",
              "      box-shadow: 0px 1px 3px 1px rgba(0, 0, 0, 0.15);\n",
              "      filter: drop-shadow(0px 1px 2px rgba(0, 0, 0, 0.3));\n",
              "      fill: #FFFFFF;\n",
              "    }\n",
              "  </style>\n",
              "\n",
              "    <script>\n",
              "      const buttonEl =\n",
              "        document.querySelector('#df-4b43cee6-a20e-4ed7-8faf-d6bb452de05d button.colab-df-convert');\n",
              "      buttonEl.style.display =\n",
              "        google.colab.kernel.accessAllowed ? 'block' : 'none';\n",
              "\n",
              "      async function convertToInteractive(key) {\n",
              "        const element = document.querySelector('#df-4b43cee6-a20e-4ed7-8faf-d6bb452de05d');\n",
              "        const dataTable =\n",
              "          await google.colab.kernel.invokeFunction('convertToInteractive',\n",
              "                                                    [key], {});\n",
              "        if (!dataTable) return;\n",
              "\n",
              "        const docLinkHtml = 'Like what you see? Visit the ' +\n",
              "          '<a target=\"_blank\" href=https://colab.research.google.com/notebooks/data_table.ipynb>data table notebook</a>'\n",
              "          + ' to learn more about interactive tables.';\n",
              "        element.innerHTML = '';\n",
              "        dataTable['output_type'] = 'display_data';\n",
              "        await google.colab.output.renderOutput(dataTable, element);\n",
              "        const docLink = document.createElement('div');\n",
              "        docLink.innerHTML = docLinkHtml;\n",
              "        element.appendChild(docLink);\n",
              "      }\n",
              "    </script>\n",
              "  </div>\n",
              "\n",
              "\n",
              "<div id=\"df-4ba56c78-d146-400e-bed1-f0734be0626d\">\n",
              "  <button class=\"colab-df-quickchart\" onclick=\"quickchart('df-4ba56c78-d146-400e-bed1-f0734be0626d')\"\n",
              "            title=\"Suggest charts.\"\n",
              "            style=\"display:none;\">\n",
              "\n",
              "<svg xmlns=\"http://www.w3.org/2000/svg\" height=\"24px\"viewBox=\"0 0 24 24\"\n",
              "     width=\"24px\">\n",
              "    <g>\n",
              "        <path d=\"M19 3H5c-1.1 0-2 .9-2 2v14c0 1.1.9 2 2 2h14c1.1 0 2-.9 2-2V5c0-1.1-.9-2-2-2zM9 17H7v-7h2v7zm4 0h-2V7h2v10zm4 0h-2v-4h2v4z\"/>\n",
              "    </g>\n",
              "</svg>\n",
              "  </button>\n",
              "\n",
              "<style>\n",
              "  .colab-df-quickchart {\n",
              "      --bg-color: #E8F0FE;\n",
              "      --fill-color: #1967D2;\n",
              "      --hover-bg-color: #E2EBFA;\n",
              "      --hover-fill-color: #174EA6;\n",
              "      --disabled-fill-color: #AAA;\n",
              "      --disabled-bg-color: #DDD;\n",
              "  }\n",
              "\n",
              "  [theme=dark] .colab-df-quickchart {\n",
              "      --bg-color: #3B4455;\n",
              "      --fill-color: #D2E3FC;\n",
              "      --hover-bg-color: #434B5C;\n",
              "      --hover-fill-color: #FFFFFF;\n",
              "      --disabled-bg-color: #3B4455;\n",
              "      --disabled-fill-color: #666;\n",
              "  }\n",
              "\n",
              "  .colab-df-quickchart {\n",
              "    background-color: var(--bg-color);\n",
              "    border: none;\n",
              "    border-radius: 50%;\n",
              "    cursor: pointer;\n",
              "    display: none;\n",
              "    fill: var(--fill-color);\n",
              "    height: 32px;\n",
              "    padding: 0;\n",
              "    width: 32px;\n",
              "  }\n",
              "\n",
              "  .colab-df-quickchart:hover {\n",
              "    background-color: var(--hover-bg-color);\n",
              "    box-shadow: 0 1px 2px rgba(60, 64, 67, 0.3), 0 1px 3px 1px rgba(60, 64, 67, 0.15);\n",
              "    fill: var(--button-hover-fill-color);\n",
              "  }\n",
              "\n",
              "  .colab-df-quickchart-complete:disabled,\n",
              "  .colab-df-quickchart-complete:disabled:hover {\n",
              "    background-color: var(--disabled-bg-color);\n",
              "    fill: var(--disabled-fill-color);\n",
              "    box-shadow: none;\n",
              "  }\n",
              "\n",
              "  .colab-df-spinner {\n",
              "    border: 2px solid var(--fill-color);\n",
              "    border-color: transparent;\n",
              "    border-bottom-color: var(--fill-color);\n",
              "    animation:\n",
              "      spin 1s steps(1) infinite;\n",
              "  }\n",
              "\n",
              "  @keyframes spin {\n",
              "    0% {\n",
              "      border-color: transparent;\n",
              "      border-bottom-color: var(--fill-color);\n",
              "      border-left-color: var(--fill-color);\n",
              "    }\n",
              "    20% {\n",
              "      border-color: transparent;\n",
              "      border-left-color: var(--fill-color);\n",
              "      border-top-color: var(--fill-color);\n",
              "    }\n",
              "    30% {\n",
              "      border-color: transparent;\n",
              "      border-left-color: var(--fill-color);\n",
              "      border-top-color: var(--fill-color);\n",
              "      border-right-color: var(--fill-color);\n",
              "    }\n",
              "    40% {\n",
              "      border-color: transparent;\n",
              "      border-right-color: var(--fill-color);\n",
              "      border-top-color: var(--fill-color);\n",
              "    }\n",
              "    60% {\n",
              "      border-color: transparent;\n",
              "      border-right-color: var(--fill-color);\n",
              "    }\n",
              "    80% {\n",
              "      border-color: transparent;\n",
              "      border-right-color: var(--fill-color);\n",
              "      border-bottom-color: var(--fill-color);\n",
              "    }\n",
              "    90% {\n",
              "      border-color: transparent;\n",
              "      border-bottom-color: var(--fill-color);\n",
              "    }\n",
              "  }\n",
              "</style>\n",
              "\n",
              "  <script>\n",
              "    async function quickchart(key) {\n",
              "      const quickchartButtonEl =\n",
              "        document.querySelector('#' + key + ' button');\n",
              "      quickchartButtonEl.disabled = true;  // To prevent multiple clicks.\n",
              "      quickchartButtonEl.classList.add('colab-df-spinner');\n",
              "      try {\n",
              "        const charts = await google.colab.kernel.invokeFunction(\n",
              "            'suggestCharts', [key], {});\n",
              "      } catch (error) {\n",
              "        console.error('Error during call to suggestCharts:', error);\n",
              "      }\n",
              "      quickchartButtonEl.classList.remove('colab-df-spinner');\n",
              "      quickchartButtonEl.classList.add('colab-df-quickchart-complete');\n",
              "    }\n",
              "    (() => {\n",
              "      let quickchartButtonEl =\n",
              "        document.querySelector('#df-4ba56c78-d146-400e-bed1-f0734be0626d button');\n",
              "      quickchartButtonEl.style.display =\n",
              "        google.colab.kernel.accessAllowed ? 'block' : 'none';\n",
              "    })();\n",
              "  </script>\n",
              "</div>\n",
              "    </div>\n",
              "  </div>\n"
            ],
            "text/plain": [
              "                                                                                                                                                Manajemen waktu adalah keterampilan esensial dalam kehidupan sehari-hari.  \\\n",
              "Manajemen waktu adalah keterampilan kunci yang harus dimiliki oleh setiap individu, baik dalam konteks pekerjaan maupun kehidupan pribadi.      0.319175                                                                    \n",
              "Kemampuan untuk mengatur dan memanfaatkan waktu dengan efisien adalah faktor penentu kesuksesan dalam mencapai tujuan.                          0.000000                                                                    \n",
              "Dengan manajemen waktu yang baik, kita dapat meningkatkan produktivitas, mengurangi stres, dan meningkatkan kualitas hidup secara keseluruhan.  0.174734                                                                    \n",
              "Itulah mengapa penting untuk memberikan perhatian serius terhadap manajemen waktu dalam setiap aspek kehidupan kita.                            0.192664                                                                    \n",
              "\n",
              "                                                                                                                                                Dengan mengatur waktu dengan baik, Anda dapat meningkatkan produktivitas, menghindari stres berlebih, dan mencapai tujuan Anda lebih efisien.  \\\n",
              "Manajemen waktu adalah keterampilan kunci yang harus dimiliki oleh setiap individu, baik dalam konteks pekerjaan maupun kehidupan pribadi.      0.000000                                                                                                                                        \n",
              "Kemampuan untuk mengatur dan memanfaatkan waktu dengan efisien adalah faktor penentu kesuksesan dalam mencapai tujuan.                          0.493704                                                                                                                                        \n",
              "Dengan manajemen waktu yang baik, kita dapat meningkatkan produktivitas, mengurangi stres, dan meningkatkan kualitas hidup secara keseluruhan.  0.504792                                                                                                                                        \n",
              "Itulah mengapa penting untuk memberikan perhatian serius terhadap manajemen waktu dalam setiap aspek kehidupan kita.                            0.000000                                                                                                                                        \n",
              "\n",
              "                                                                                                                                                Terutama dalam dunia yang penuh dengan tuntutan, keterampilan ini memungkinkan Anda untuk menjaga keseimbangan antara pekerjaan, keluarga, dan waktu pribadi.  \\\n",
              "Manajemen waktu adalah keterampilan kunci yang harus dimiliki oleh setiap individu, baik dalam konteks pekerjaan maupun kehidupan pribadi.      0.268089                                                                                                                                                        \n",
              "Kemampuan untuk mengatur dan memanfaatkan waktu dengan efisien adalah faktor penentu kesuksesan dalam mencapai tujuan.                          0.000000                                                                                                                                                        \n",
              "Dengan manajemen waktu yang baik, kita dapat meningkatkan produktivitas, mengurangi stres, dan meningkatkan kualitas hidup secara keseluruhan.  0.000000                                                                                                                                                        \n",
              "Itulah mengapa penting untuk memberikan perhatian serius terhadap manajemen waktu dalam setiap aspek kehidupan kita.                            0.000000                                                                                                                                                        \n",
              "\n",
              "                                                                                                                                                Dengan manajemen waktu yang baik, Anda dapat merencanakan tugas-tugas dengan bijak, menghindari prokrastinasi, dan memiliki lebih banyak waktu untuk mengejar hobi serta bersantai.  \\\n",
              "Manajemen waktu adalah keterampilan kunci yang harus dimiliki oleh setiap individu, baik dalam konteks pekerjaan maupun kehidupan pribadi.      0.117436                                                                                                                                                                              \n",
              "Kemampuan untuk mengatur dan memanfaatkan waktu dengan efisien adalah faktor penentu kesuksesan dalam mencapai tujuan.                          0.000000                                                                                                                                                                              \n",
              "Dengan manajemen waktu yang baik, kita dapat meningkatkan produktivitas, mengurangi stres, dan meningkatkan kualitas hidup secara keseluruhan.  0.033401                                                                                                                                                                              \n",
              "Itulah mengapa penting untuk memberikan perhatian serius terhadap manajemen waktu dalam setiap aspek kehidupan kita.                            0.036828                                                                                                                                                                              \n",
              "\n",
              "                                                                                                                                                Akhirnya, manajemen waktu yang efektif adalah kunci untuk menciptakan kualitas hidup yang lebih baik secara keseluruhan.  \n",
              "Manajemen waktu adalah keterampilan kunci yang harus dimiliki oleh setiap individu, baik dalam konteks pekerjaan maupun kehidupan pribadi.      0.268178                                                                                                                  \n",
              "Kemampuan untuk mengatur dan memanfaatkan waktu dengan efisien adalah faktor penentu kesuksesan dalam mencapai tujuan.                          0.000000                                                                                                                  \n",
              "Dengan manajemen waktu yang baik, kita dapat meningkatkan produktivitas, mengurangi stres, dan meningkatkan kualitas hidup secara keseluruhan.  0.277573                                                                                                                  \n",
              "Itulah mengapa penting untuk memberikan perhatian serius terhadap manajemen waktu dalam setiap aspek kehidupan kita.                            0.140514                                                                                                                  "
            ]
          },
          "metadata": {},
          "output_type": "display_data"
        }
      ],
      "source": [
        "''' Hasil seluruh Kemiripan kalimat antara dokumen 1 dan dokumen 2'''\n",
        "\n",
        "df = pd.DataFrame(matrix_tfidf_cosine_sim, columns=kalimat_2, index=kalimat_1)\n",
        "display(df)"
      ]
    }
  ],
  "metadata": {
    "colab": {
      "collapsed_sections": [
        "NND7qugDEbDn",
        "Pzyht8A8QMeo",
        "vMZKnHMnPX7R",
        "ggBZya_d_tiu",
        "WbwCJNVOABt5"
      ],
      "provenance": []
    },
    "kernelspec": {
      "display_name": "Python 3",
      "name": "python3"
    },
    "language_info": {
      "codemirror_mode": {
        "name": "ipython",
        "version": 3
      },
      "file_extension": ".py",
      "mimetype": "text/x-python",
      "name": "python",
      "nbconvert_exporter": "python",
      "pygments_lexer": "ipython3",
      "version": "3.8.10"
    }
  },
  "nbformat": 4,
  "nbformat_minor": 0
}
